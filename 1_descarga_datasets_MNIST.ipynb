{
 "cells": [
  {
   "cell_type": "code",
   "execution_count": 3,
   "metadata": {},
   "outputs": [
    {
     "name": "stdout",
     "output_type": "stream",
     "text": [
      "Versión de Pytorch:  2.1.0\n"
     ]
    }
   ],
   "source": [
    "# Importamos Pytorch\n",
    "import torch as T\n",
    "print('Versión de Pytorch: ', T.__version__) \n",
    "\n",
    "import torchvision \n",
    "import torchvision.datasets as datasets\n",
    "import torchvision.transforms as transforms\n",
    "import os"
   ]
  },
  {
   "cell_type": "code",
   "execution_count": 3,
   "metadata": {},
   "outputs": [
    {
     "name": "stdout",
     "output_type": "stream",
     "text": [
      "Los datos ya están descargados.\n"
     ]
    }
   ],
   "source": [
    "# Permite la descarga sencilla del dataset MNIST (60k imágenes dígitos 0-9)\n",
    "if not os.path.exists(\"data\"):\n",
    "    os.makedirs(\"data\")\n",
    "\n",
    "    # Datos para el entrenamiento del modelo (se descargan en data/MNIST/raw)\n",
    "    mnist_trainset = datasets.MNIST(root='./data', train=True, download=True, transform=None)\n",
    "\n",
    "    # Datos para testeo del modelo (10k imágenes)\n",
    "    mnist_testset = datasets.MNIST(root='./data', train=False, download=True, transform=None) \n",
    "\n",
    "    print('Nº de imágeses para training: ', len(mnist_trainset))\n",
    "    print('Nº de imágeses para training: ', len(mnist_testset))\n",
    "\n",
    "else:\n",
    "    print('Los datos ya están descargados y descomprimidos.')"
   ]
  },
  {
   "cell_type": "code",
   "execution_count": 5,
   "metadata": {},
   "outputs": [
    {
     "name": "stdout",
     "output_type": "stream",
     "text": [
      "Downloading http://yann.lecun.com/exdb/mnist/train-images-idx3-ubyte.gz\n",
      "Failed to download (trying next):\n",
      "<urlopen error [Errno 11001] getaddrinfo failed>\n",
      "\n",
      "Downloading https://ossci-datasets.s3.amazonaws.com/mnist/train-images-idx3-ubyte.gz\n",
      "Downloading https://ossci-datasets.s3.amazonaws.com/mnist/train-images-idx3-ubyte.gz to ./data_tensor\\MNIST\\raw\\train-images-idx3-ubyte.gz\n"
     ]
    },
    {
     "name": "stderr",
     "output_type": "stream",
     "text": [
      "100%|██████████| 9912422/9912422 [00:01<00:00, 7040338.33it/s]\n"
     ]
    },
    {
     "name": "stdout",
     "output_type": "stream",
     "text": [
      "Extracting ./data_tensor\\MNIST\\raw\\train-images-idx3-ubyte.gz to ./data_tensor\\MNIST\\raw\n",
      "\n",
      "Downloading http://yann.lecun.com/exdb/mnist/train-labels-idx1-ubyte.gz\n",
      "Failed to download (trying next):\n",
      "<urlopen error [Errno 11001] getaddrinfo failed>\n",
      "\n",
      "Downloading https://ossci-datasets.s3.amazonaws.com/mnist/train-labels-idx1-ubyte.gz\n",
      "Downloading https://ossci-datasets.s3.amazonaws.com/mnist/train-labels-idx1-ubyte.gz to ./data_tensor\\MNIST\\raw\\train-labels-idx1-ubyte.gz\n"
     ]
    },
    {
     "name": "stderr",
     "output_type": "stream",
     "text": [
      "100%|██████████| 28881/28881 [00:00<00:00, 354444.60it/s]\n"
     ]
    },
    {
     "name": "stdout",
     "output_type": "stream",
     "text": [
      "Extracting ./data_tensor\\MNIST\\raw\\train-labels-idx1-ubyte.gz to ./data_tensor\\MNIST\\raw\n",
      "\n",
      "Downloading http://yann.lecun.com/exdb/mnist/t10k-images-idx3-ubyte.gz\n",
      "Downloading http://yann.lecun.com/exdb/mnist/t10k-images-idx3-ubyte.gz to ./data_tensor\\MNIST\\raw\\t10k-images-idx3-ubyte.gz\n"
     ]
    },
    {
     "name": "stderr",
     "output_type": "stream",
     "text": [
      "100%|██████████| 1648877/1648877 [00:00<00:00, 12658237.59it/s]\n"
     ]
    },
    {
     "name": "stdout",
     "output_type": "stream",
     "text": [
      "Extracting ./data_tensor\\MNIST\\raw\\t10k-images-idx3-ubyte.gz to ./data_tensor\\MNIST\\raw\n",
      "\n",
      "Downloading http://yann.lecun.com/exdb/mnist/t10k-labels-idx1-ubyte.gz\n",
      "Downloading http://yann.lecun.com/exdb/mnist/t10k-labels-idx1-ubyte.gz to ./data_tensor\\MNIST\\raw\\t10k-labels-idx1-ubyte.gz\n"
     ]
    },
    {
     "name": "stderr",
     "output_type": "stream",
     "text": [
      "100%|██████████| 4542/4542 [00:00<00:00, 4535840.18it/s]"
     ]
    },
    {
     "name": "stdout",
     "output_type": "stream",
     "text": [
      "Extracting ./data_tensor\\MNIST\\raw\\t10k-labels-idx1-ubyte.gz to ./data_tensor\\MNIST\\raw\n",
      "\n"
     ]
    },
    {
     "name": "stderr",
     "output_type": "stream",
     "text": [
      "\n"
     ]
    },
    {
     "name": "stdout",
     "output_type": "stream",
     "text": [
      "Nº de imágeses para training:  60000\n",
      "Nº de imágeses para training:  10000\n"
     ]
    }
   ],
   "source": [
    "# como TENSORES\n",
    "\n",
    "\n",
    "if not os.path.exists(\"data_tensor\"):\n",
    "    os.makedirs(\"data_tensor\")\n",
    "\n",
    "    # Datos para el entrenamiento del modelo (se descargan en data/MNIST/raw)\n",
    "    mnist_trainset = datasets.MNIST(root='./data_tensor', train=True, \n",
    "                                    download=True, transform=transforms.ToTensor())\n",
    "\n",
    "    # Datos para testeo del modelo (10k imágenes)\n",
    "    mnist_testset = datasets.MNIST(root='./data_tensor', train=False, \n",
    "                            download=True, transform=transforms.ToTensor()) \n",
    "\n",
    "    print('Nº de imágeses para training: ', len(mnist_trainset))\n",
    "    print('Nº de imágeses para training: ', len(mnist_testset))\n",
    "\n",
    "else:\n",
    "    print('Los datos ya están descargados y descomprimidos.')"
   ]
  },
  {
   "cell_type": "code",
   "execution_count": null,
   "metadata": {},
   "outputs": [],
   "source": [
    "#import os\n",
    "#print(os.getcwd())"
   ]
  }
 ],
 "metadata": {
  "kernelspec": {
   "display_name": "DL-TORCH",
   "language": "python",
   "name": "python3"
  },
  "language_info": {
   "codemirror_mode": {
    "name": "ipython",
    "version": 3
   },
   "file_extension": ".py",
   "mimetype": "text/x-python",
   "name": "python",
   "nbconvert_exporter": "python",
   "pygments_lexer": "ipython3",
   "version": "3.10.8"
  },
  "orig_nbformat": 4
 },
 "nbformat": 4,
 "nbformat_minor": 2
}
